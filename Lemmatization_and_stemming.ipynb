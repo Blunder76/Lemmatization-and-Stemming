{
  "nbformat": 4,
  "nbformat_minor": 0,
  "metadata": {
    "colab": {
      "provenance": []
    },
    "kernelspec": {
      "name": "python3",
      "display_name": "Python 3"
    },
    "language_info": {
      "name": "python"
    },
    "accelerator": "GPU",
    "gpuClass": "standard"
  },
  "cells": [
    {
      "cell_type": "code",
      "execution_count": 1,
      "metadata": {
        "id": "XhY3rtV0Fg-_"
      },
      "outputs": [],
      "source": [
        "import nltk\n",
        "import spacy"
      ]
    },
    {
      "cell_type": "code",
      "source": [
        "from nltk.stem import PorterStemmer\n",
        "\n",
        "\n",
        "stemmer = PorterStemmer()"
      ],
      "metadata": {
        "id": "NuTlOZvTHNhW"
      },
      "execution_count": 2,
      "outputs": []
    },
    {
      "cell_type": "code",
      "source": [
        "words = [\"Ability\",\"Shifted\", \"raining\",\"adjustable\",\"reading\",\"risen\",\"rose\",\"ate\"]\n",
        "\n",
        "for word in words:\n",
        "    print (word, \"|\", stemmer.stem(word))"
      ],
      "metadata": {
        "colab": {
          "base_uri": "https://localhost:8080/"
        },
        "id": "0R9vw2IaHU4k",
        "outputId": "a4f8a33a-60ae-42ec-8bed-2051de541d75"
      },
      "execution_count": 5,
      "outputs": [
        {
          "output_type": "stream",
          "name": "stdout",
          "text": [
            "Ability | abil\n",
            "Shifted | shift\n",
            "raining | rain\n",
            "adjustable | adjust\n",
            "reading | read\n",
            "risen | risen\n",
            "rose | rose\n",
            "ate | ate\n"
          ]
        }
      ]
    },
    {
      "cell_type": "code",
      "source": [
        "nlp = spacy.load(\"en_core_web_sm\")\n",
        "\n",
        "doc = nlp(\"Ability Shifted raining adjustable reading risen rose ate\")\n",
        "\n",
        "for token in doc:\n",
        "    print (token, \"|\", token.lemma_)"
      ],
      "metadata": {
        "colab": {
          "base_uri": "https://localhost:8080/"
        },
        "id": "YvCTIqeOHZWN",
        "outputId": "6721f7b3-bce6-42a5-92bb-2a9b176a6c27"
      },
      "execution_count": 7,
      "outputs": [
        {
          "output_type": "stream",
          "name": "stdout",
          "text": [
            "Ability | ability\n",
            "Shifted | shift\n",
            "raining | rain\n",
            "adjustable | adjustable\n",
            "reading | reading\n",
            "risen | risen\n",
            "rose | rise\n",
            "ate | eat\n"
          ]
        }
      ]
    },
    {
      "cell_type": "code",
      "source": [],
      "metadata": {
        "id": "pqflh8JTIatp"
      },
      "execution_count": null,
      "outputs": []
    },
    {
      "cell_type": "code",
      "source": [],
      "metadata": {
        "id": "plYUXAeWyEQh"
      },
      "execution_count": null,
      "outputs": []
    }
  ]
}